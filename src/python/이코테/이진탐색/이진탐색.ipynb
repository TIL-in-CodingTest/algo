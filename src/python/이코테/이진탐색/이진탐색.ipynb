{
 "cells": [
  {
   "cell_type": "markdown",
   "metadata": {},
   "source": [
    "# 재귀함수로 구현한 이진탐색"
   ]
  },
  {
   "cell_type": "code",
   "execution_count": null,
   "metadata": {},
   "outputs": [],
   "source": [
    "def binary_search(array, target, start, end):\n",
    "    if start > end :\n",
    "        return None\n",
    "    mid = (start + end)//2\n",
    "    #찾은 경우 중간점 인덱스 반환\n",
    "    if array[mid] == target:\n",
    "        return mid\n",
    "    #중간점의 값보다 찾고자 하는 값이 작은 경우 왼쪽 확인\n",
    "    elif array[mid] > target:\n",
    "        return binary_search(array, target, start, mid-1)\n",
    "    #중간점의 값보다 찾고자 하는 값이 큰 경우 오른쪽 확인\n",
    "    else :\n",
    "        return binary_search(array, target, mid+1, end)\n",
    "    \n",
    "n, target = list(map(int, input().split()))\n",
    "array = list(map(int, input().split()))\n",
    "\n",
    "#이진탐색 수행 결과\n",
    "result = binary_search(array, target, 0, n-1)\n",
    "if result == None :\n",
    "    print(\"원소가 존재하지 않습니다\")\n",
    "else:\n",
    "    print(result+1)"
   ]
  },
  {
   "cell_type": "markdown",
   "metadata": {},
   "source": [
    "# 반복문으로 구현한 이진탐색"
   ]
  },
  {
   "cell_type": "code",
   "execution_count": null,
   "metadata": {},
   "outputs": [],
   "source": [
    "def binary_search(array, target, start, end):\n",
    "    while start <= end :\n",
    "        mid = (start + end) //2\n",
    "        #찾은 경우 중간 인덱스 반환\n",
    "        if array[mid] == target:\n",
    "            return mid\n",
    "        #중간점의 값보다 찾고자 하는 값이 작은 경우 왼쪽 확인\n",
    "        elif array[mid] > target:\n",
    "            end = mid - 1\n",
    "        #중간점의 값보다 찾고자 하는 값이 큰 경우 오른쪽 확인\n",
    "        else :\n",
    "            start = mid +2\n",
    "        return None\n",
    "    \n",
    "n, target = list(map(int, input().split()))\n",
    "array = list(map(int, input().split()))\n",
    "\n",
    "#이진탐색 수행 결과\n",
    "result = binary_search(array, target, 0, n-1)\n",
    "if result == None :\n",
    "    print(\"원소가 존재하지 않습니다\")\n",
    "else:\n",
    "    print(result+1)"
   ]
  }
 ],
 "metadata": {
  "language_info": {
   "name": "python"
  }
 },
 "nbformat": 4,
 "nbformat_minor": 2
}
