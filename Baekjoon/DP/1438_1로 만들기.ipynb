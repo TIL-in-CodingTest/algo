{
 "cells": [
  {
   "cell_type": "code",
   "execution_count": 19,
   "metadata": {},
   "outputs": [
    {
     "name": "stdout",
     "output_type": "stream",
     "text": [
      "-1로 9\n",
      "3으로 3\n",
      "3으로 1\n",
      "3\n"
     ]
    }
   ],
   "source": [
    "x = int(input())\n",
    "cnt = 0\n",
    "while x != 1:\n",
    "    if x % 3 == 0 :\n",
    "        x = x // 3\n",
    "        cnt += 1\n",
    "    else:\n",
    "        x -= 1\n",
    "        cnt += 1\n",
    "    if x % 2 == 0 :\n",
    "        x = x // 2\n",
    "        cnt += 1\n",
    "\n",
    "    \n",
    "print(cnt)"
   ]
  },
  {
   "cell_type": "code",
   "execution_count": 20,
   "metadata": {},
   "outputs": [
    {
     "name": "stdout",
     "output_type": "stream",
     "text": [
      "3\n"
     ]
    }
   ],
   "source": [
    "n = int(input())\n",
    "\n",
    "# DP 테이블 초기화\n",
    "d = [0]*1000001\n",
    "\n",
    "for i in range(2, n+1):\n",
    "    # 현재의 수에서 1을 빼는 경우\n",
    "    d[i] = d[i-1] + 1\n",
    "    # 현재의 수가 2로 나누어 떨어지는 경우\n",
    "    if i%2 == 0:\n",
    "        d[i] = min(d[i], d[i//2] + 1)\n",
    "    # 현재의 수가 3으로 나누어 떨어지는 경우\n",
    "    if i%3 == 0:\n",
    "        d[i] = min(d[i], d[i//3] + 1)\n",
    "\n",
    "# 결과 출력\n",
    "print(d[n])"
   ]
  }
 ],
 "metadata": {
  "kernelspec": {
   "display_name": "Python 3",
   "language": "python",
   "name": "python3"
  },
  "language_info": {
   "codemirror_mode": {
    "name": "ipython",
    "version": 3
   },
   "file_extension": ".py",
   "mimetype": "text/x-python",
   "name": "python",
   "nbconvert_exporter": "python",
   "pygments_lexer": "ipython3",
   "version": "3.9.13"
  }
 },
 "nbformat": 4,
 "nbformat_minor": 2
}
